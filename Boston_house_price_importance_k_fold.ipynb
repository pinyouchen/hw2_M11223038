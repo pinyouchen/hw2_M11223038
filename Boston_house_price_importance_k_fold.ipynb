{
 "cells": [
  {
   "cell_type": "code",
   "execution_count": 1,
   "metadata": {},
   "outputs": [],
   "source": [
    "import pandas as pd\n",
    "import numpy as np\n",
    "from xgboost import XGBRegressor\n",
    "from sklearn.model_selection import cross_val_score, KFold\n",
    "from sklearn.metrics import mean_absolute_percentage_error, mean_squared_error, r2_score"
   ]
  },
  {
   "cell_type": "code",
   "execution_count": 2,
   "metadata": {},
   "outputs": [],
   "source": [
    "# 資料loading Boston Housing\n",
    "boston_data_path = 'D:/TEST2/BostonHousing.csv'\n",
    "boston_data = pd.read_csv(boston_data_path)"
   ]
  },
  {
   "cell_type": "code",
   "execution_count": 3,
   "metadata": {},
   "outputs": [],
   "source": [
    "# 準備特徵和目標變量\n",
    "X = boston_data.drop('medv', axis=1)\n",
    "y = boston_data['medv']"
   ]
  },
  {
   "cell_type": "code",
   "execution_count": 4,
   "metadata": {},
   "outputs": [],
   "source": [
    "# 初始化 XGBoost 回歸模型\n",
    "xgb_model = XGBRegressor(objective='reg:squarederror', random_state=42)\n",
    "# 初始化XGBoost回歸器並調整參數\n",
    "xgb_reg = XGBRegressor(n_estimators=100, max_depth=3)"
   ]
  },
  {
   "cell_type": "code",
   "execution_count": 5,
   "metadata": {},
   "outputs": [],
   "source": [
    "# 定義一個函數來計算 MAPE, RMSE, 和 R2\n",
    "def compute_metrics(model, X, y, kf):\n",
    "    mape_scores, rmse_scores, r2_scores = [], [], []\n",
    "\n",
    "    for train_index, test_index in kf.split(X):\n",
    "        X_train, X_test = X.iloc[train_index], X.iloc[test_index]\n",
    "        y_train, y_test = y.iloc[train_index], y.iloc[test_index]\n",
    "\n",
    "        model.fit(X_train, y_train)\n",
    "        y_pred = model.predict(X_test)\n",
    "\n",
    "        mape_scores.append(mean_absolute_percentage_error(y_test, y_pred))\n",
    "        rmse_scores.append(mean_squared_error(y_test, y_pred, squared=False))\n",
    "        r2_scores.append(r2_score(y_test, y_pred))\n",
    "\n",
    "    return np.mean(mape_scores), np.mean(rmse_scores), np.mean(r2_scores)"
   ]
  },
  {
   "cell_type": "code",
   "execution_count": 6,
   "metadata": {},
   "outputs": [],
   "source": [
    "# k-fold交叉驗證\n",
    "kf = KFold(n_splits=5, shuffle=True, random_state=42)\n"
   ]
  },
  {
   "cell_type": "code",
   "execution_count": 7,
   "metadata": {},
   "outputs": [],
   "source": [
    "# 計算交叉驗證的評估指標\n",
    "mae_scores = cross_val_score(xgb_reg, X, y, cv=kf, scoring='neg_mean_absolute_error')\n",
    "mse_scores = cross_val_score(xgb_reg, X, y, cv=kf, scoring='neg_mean_squared_error')\n",
    "r2_scores = cross_val_score(xgb_reg, X, y, cv=kf, scoring='r2') "
   ]
  },
  {
   "cell_type": "code",
   "execution_count": 8,
   "metadata": {},
   "outputs": [],
   "source": [
    "# 計算平均評估指標\n",
    "avg_mae = np.mean(-mae_scores)\n",
    "avg_mse = np.mean(-mse_scores)\n",
    "avg_r2 = np.mean(r2_scores)"
   ]
  },
  {
   "cell_type": "code",
   "execution_count": 9,
   "metadata": {},
   "outputs": [
    {
     "name": "stdout",
     "output_type": "stream",
     "text": [
      "每個fold的MAE (Mean Absolute Error): [1.87893812 1.88621263 2.45682633 2.26122548 2.03357905]\n",
      "每個fold的MSE (Mean Squared Error): [ 6.28266553  7.16119511 13.58884962  9.00873935  8.02194322]\n",
      "每個fold的R2 分數: [0.91432781 0.90880473 0.85063677 0.91374841 0.8884391 ]\n"
     ]
    }
   ],
   "source": [
    "# 顯示每個fold的評估指標\n",
    "print(\"每個fold的MAE (Mean Absolute Error):\", -mae_scores)\n",
    "print(\"每個fold的MSE (Mean Squared Error):\", -mse_scores)\n",
    "print(\"每個fold的R2 分數:\", r2_scores)"
   ]
  },
  {
   "cell_type": "code",
   "execution_count": 10,
   "metadata": {},
   "outputs": [
    {
     "name": "stdout",
     "output_type": "stream",
     "text": [
      "\n",
      "平均MAE (Mean Absolute Error): 2.1033563209445565\n",
      "平均MSE (Mean Squared Error): 8.8126785650643\n",
      "平均R2 分數: 0.8951913632596351\n"
     ]
    }
   ],
   "source": [
    "# 顯示平均評估指標\n",
    "print(\"\\n平均MAE (Mean Absolute Error):\", avg_mae)\n",
    "print(\"平均MSE (Mean Squared Error):\", avg_mse)\n",
    "print(\"平均R2 分數:\", avg_r2)"
   ]
  },
  {
   "cell_type": "code",
   "execution_count": 11,
   "metadata": {},
   "outputs": [],
   "source": [
    "# 使用所有特徵進行分析\n",
    "mape_all, rmse_all, r2_all = compute_metrics(xgb_model, X, y, kf)"
   ]
  },
  {
   "cell_type": "code",
   "execution_count": 12,
   "metadata": {},
   "outputs": [],
   "source": [
    "# 計算特徵重要性\n",
    "xgb_model.fit(X, y)\n",
    "feature_importances = xgb_model.feature_importances_"
   ]
  },
  {
   "cell_type": "code",
   "execution_count": 13,
   "metadata": {},
   "outputs": [],
   "source": [
    "# 計算特徵重要性\n",
    "xgb_model.fit(X, y)\n",
    "feature_importances1 = xgb_model.feature_importances_"
   ]
  },
  {
   "cell_type": "code",
   "execution_count": 14,
   "metadata": {},
   "outputs": [],
   "source": [
    "# 選擇最重要的特徵\n",
    "top_n = 10\n",
    "indices = np.argsort(feature_importances)[::-1][:top_n]\n",
    "top_features = X.columns[indices]"
   ]
  },
  {
   "cell_type": "code",
   "execution_count": 15,
   "metadata": {},
   "outputs": [],
   "source": [
    "# 使用篩選後的特徵進行分析\n",
    "X_top = X[top_features]\n",
    "mape_top, rmse_top, r2_top = compute_metrics(xgb_model, X_top, y, kf)"
   ]
  },
  {
   "cell_type": "code",
   "execution_count": 16,
   "metadata": {},
   "outputs": [],
   "source": [
    "# 選擇最重要的特徵\n",
    "top_n1 = 2\n",
    "indices = np.argsort(feature_importances1)[::-1][:top_n1]\n",
    "top_features1 = X.columns[indices]"
   ]
  },
  {
   "cell_type": "code",
   "execution_count": 17,
   "metadata": {},
   "outputs": [],
   "source": [
    "# 使用篩選後的特徵進行分析\n",
    "X_top1 = X[top_features1]\n",
    "mape_top1, rmse_top1, r2_top1 = compute_metrics(xgb_model, X_top1, y, kf)"
   ]
  },
  {
   "cell_type": "code",
   "execution_count": 18,
   "metadata": {},
   "outputs": [
    {
     "name": "stdout",
     "output_type": "stream",
     "text": [
      "使用所有特徵的性能指標:\n",
      "MAPE: 0.1080289212450403, RMSE: 3.084887602754878, R2: 0.8856603620598325\n",
      "\n",
      "使用篩選10個特徵的性能指標:\n",
      "MAPE: 0.10900486381243486, RMSE: 3.0378841419688465, R2: 0.8887885863167053\n",
      "\n",
      "使用篩選2個特徵的性能指標:\n",
      "MAPE: 0.19013125600436792, RMSE: 5.182871620785813, R2: 0.6711578193356287\n",
      "\n",
      "篩選10個的特徵:\n",
      "Index(['lstat', 'rm', 'dis', 'tax', 'nox', 'ptratio', 'crim', 'chas', 'age',\n",
      "       'rad'],\n",
      "      dtype='object')\n",
      "\n",
      "篩選2個的特徵:\n",
      "Index(['lstat', 'rm'], dtype='object')\n"
     ]
    }
   ],
   "source": [
    "print(\"使用所有特徵的性能指標:\")\n",
    "print(f\"MAPE: {mape_all}, RMSE: {rmse_all}, R2: {r2_all}\")\n",
    "\n",
    "print(\"\\n使用篩選10個特徵的性能指標:\")\n",
    "print(f\"MAPE: {mape_top}, RMSE: {rmse_top}, R2: {r2_top}\")\n",
    "\n",
    "print(\"\\n使用篩選2個特徵的性能指標:\")\n",
    "print(f\"MAPE: {mape_top1}, RMSE: {rmse_top1}, R2: {r2_top1}\")\n",
    "\n",
    "print(\"\\n篩選10個的特徵:\")\n",
    "print(top_features)\n",
    "\n",
    "print(\"\\n篩選2個的特徵:\")\n",
    "print(top_features1)"
   ]
  }
 ],
 "metadata": {
  "kernelspec": {
   "display_name": "Python 3",
   "language": "python",
   "name": "python3"
  },
  "language_info": {
   "codemirror_mode": {
    "name": "ipython",
    "version": 3
   },
   "file_extension": ".py",
   "mimetype": "text/x-python",
   "name": "python",
   "nbconvert_exporter": "python",
   "pygments_lexer": "ipython3",
   "version": "3.11.1"
  }
 },
 "nbformat": 4,
 "nbformat_minor": 2
}
